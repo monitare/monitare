{
 "cells": [
  {
   "cell_type": "code",
   "execution_count": 269,
   "id": "eb06de90",
   "metadata": {
    "scrolled": false
   },
   "outputs": [],
   "source": [
    "import matplotlib.pyplot as plt\n",
    "from matplotlib import style\n",
    "import numpy as np\n",
    "from sklearn.linear_model import LinearRegression\n",
    "from sklearn.metrics import mean_squared_error, mean_absolute_error, r2_score\n",
    "from sklearn.preprocessing import PolynomialFeatures\n",
    "from scipy.stats import sem, pearsonr\n",
    "from scipy.optimize import curve_fit\n",
    "import cv2\n",
    "\n",
    "%matplotlib inline\n",
    "\n",
    "import matplotlib\n",
    "#style.use('classic')\n",
    "matplotlib.rcParams['image.cmap'] = 'tab20'\n",
    "#matplotlib.rcdefaults()"
   ]
  },
  {
   "cell_type": "code",
   "execution_count": 49,
   "id": "8459157a",
   "metadata": {},
   "outputs": [
    {
     "data": {
      "text/plain": [
       "['Solarize_Light2',\n",
       " '_classic_test_patch',\n",
       " '_mpl-gallery',\n",
       " '_mpl-gallery-nogrid',\n",
       " 'bmh',\n",
       " 'classic',\n",
       " 'dark_background',\n",
       " 'fast',\n",
       " 'fivethirtyeight',\n",
       " 'ggplot',\n",
       " 'grayscale',\n",
       " 'seaborn',\n",
       " 'seaborn-bright',\n",
       " 'seaborn-colorblind',\n",
       " 'seaborn-dark',\n",
       " 'seaborn-dark-palette',\n",
       " 'seaborn-darkgrid',\n",
       " 'seaborn-deep',\n",
       " 'seaborn-muted',\n",
       " 'seaborn-notebook',\n",
       " 'seaborn-paper',\n",
       " 'seaborn-pastel',\n",
       " 'seaborn-poster',\n",
       " 'seaborn-talk',\n",
       " 'seaborn-ticks',\n",
       " 'seaborn-white',\n",
       " 'seaborn-whitegrid',\n",
       " 'tableau-colorblind10']"
      ]
     },
     "execution_count": 49,
     "metadata": {},
     "output_type": "execute_result"
    }
   ],
   "source": [
    "style.available"
   ]
  },
  {
   "cell_type": "code",
   "execution_count": 2,
   "id": "2bd4c3e1",
   "metadata": {},
   "outputs": [],
   "source": [
    "days = [1, 2, 3, 4, 5, 6, 7]"
   ]
  },
  {
   "cell_type": "code",
   "execution_count": 3,
   "id": "0ccad706",
   "metadata": {},
   "outputs": [],
   "source": [
    "dates = [220322, 220405, 220420, 220504, 220527, 220603, 220615]"
   ]
  },
  {
   "cell_type": "markdown",
   "id": "f20ab9a0",
   "metadata": {},
   "source": [
    "Standard error and standard deviation are both measures of variability. The standard deviation reflects variability within a sample, while the standard error estimates the variability across samples of a population.\n",
    "Standard error indicates how different the population mean is likely to be from a sample mean. It tells you how much the sample mean would vary if you were to repeat a study using new samples from within a single population."
   ]
  },
  {
   "cell_type": "markdown",
   "id": "6139f787",
   "metadata": {},
   "source": [
    "# GT length\n",
    "Use only the lamina/blade length, as the stipe dont contribute in a significant way to the end products or the underway biomass. Maybe this is wrong?"
   ]
  },
  {
   "cell_type": "code",
   "execution_count": 4,
   "id": "c77c2c52",
   "metadata": {},
   "outputs": [
    {
     "name": "stdout",
     "output_type": "stream",
     "text": [
      "\n",
      "lengthBlade:[55.  71.  35.  23.  50.  43.5 38.  36.5 32.5 71. ]\n",
      "lengthStd:15.289620662397088\n",
      "lengthSte:5.09654022079903\n",
      "lengthMean:45.6\n",
      "\n",
      "lengthBlade:[58.  60.  40.5 23.5 33.  55.5 35.  57.5 59.5 42. ]\n",
      "lengthStd:12.590571869458511\n",
      "lengthSte:4.196857289819503\n",
      "lengthMean:46.4\n",
      "\n",
      "lengthBlade:[49.5 50.  44.  57.  42.  26.  36.5 26.5 19.  23.5]\n",
      "lengthStd:12.39112585683803\n",
      "lengthSte:4.1303752856126765\n",
      "lengthMean:37.4\n",
      "\n",
      "lengthBlade:[69.5 67.5 63.  43.  67.5 63.5 58.  70.5 43.  31. ]\n",
      "lengthStd:13.046168019767338\n",
      "lengthSte:4.3487226732557795\n",
      "lengthMean:57.6\n",
      "\n",
      "lengthBlade:[140.  82. 108.  75.  95.  75.  97.  98.  78.  87.]\n",
      "lengthStd:18.725650856512303\n",
      "lengthSte:6.241883618837434\n",
      "lengthMean:93.5\n",
      "\n",
      "lengthBlade:[113.  83.  57.  98. 118.  65.  98.  66.  94.  81.]\n",
      "lengthStd:19.504102132628407\n",
      "lengthSte:6.501367377542802\n",
      "lengthMean:87.3\n",
      "\n",
      "lengthBlade:[74. 33. 50. 51. 73. 68. 81. 56. 85. 88.]\n",
      "lengthStd:16.902366698187564\n",
      "lengthSte:5.6341222327291876\n",
      "lengthMean:65.9\n",
      "\n",
      "lengthGTStds:[15.289620662397088, 12.590571869458511, 12.39112585683803, 13.046168019767338, 18.725650856512303, 19.504102132628407, 16.902366698187564]\n",
      "lengthGTStes:[5.09654022079903, 4.196857289819503, 4.1303752856126765, 4.3487226732557795, 6.241883618837434, 6.501367377542802, 5.6341222327291876]\n",
      "lengthGT:[45.6, 46.4, 37.4, 57.6, 93.5, 87.3, 65.9]\n"
     ]
    }
   ],
   "source": [
    "lengths = [[1], [2], [3], [4], [5], [6], [7]]\n",
    "lengthGT = []\n",
    "lengthGTStds = []\n",
    "lengthGTStes = []\n",
    "\n",
    "for length in lengths:\n",
    "    lengthPath = 'C:/Users/marti/opencv/monitare/field/lengthBlade.csv'\n",
    "    lengthBlade = np.loadtxt(lengthPath,\n",
    "                             delimiter=';',\n",
    "                             skiprows=1,\n",
    "                             usecols={length[0]},\n",
    "                             unpack=True)\n",
    "    print(f'\\nlengthBlade:{lengthBlade}')\n",
    "    \n",
    "    lengthStd = np.std(lengthBlade)\n",
    "    print(f'lengthStd:{lengthStd}')\n",
    "    if lengthStd is not None:\n",
    "        lengthGTStds.append(lengthStd)\n",
    "    \n",
    "    lengthSte = sem(lengthBlade)\n",
    "    print(f'lengthSte:{lengthSte}')\n",
    "    if lengthSte is not None:\n",
    "        lengthGTStes.append(lengthSte)\n",
    "        \n",
    "    lengthMean = np.around(np.mean(lengthBlade), 1)\n",
    "    print(f'lengthMean:{lengthMean}')\n",
    "    if lengthMean is not None:\n",
    "        lengthGT.append(lengthMean)\n",
    "\n",
    "labelGTL = 'Ground-truth length (cm)'\n",
    "titleGTL = 'GTL'\n",
    "\n",
    "print(f'\\nlengthGTStds:{lengthGTStds}')\n",
    "print(f'lengthGTStes:{lengthGTStes}')\n",
    "print(f'lengthGT:{lengthGT}')"
   ]
  },
  {
   "cell_type": "markdown",
   "id": "55b6124e",
   "metadata": {},
   "source": [
    "# GT width"
   ]
  },
  {
   "cell_type": "code",
   "execution_count": 5,
   "id": "a02e4079",
   "metadata": {},
   "outputs": [
    {
     "name": "stdout",
     "output_type": "stream",
     "text": [
      "\n",
      "widthBlade:[19.  23.   9.   6.  12.5 11.   7.5  9.   7.5 22.5]\n",
      "widthStd:6.091797764207213\n",
      "widthSte:2.0305992547357374\n",
      "widthMean:12.7\n",
      "\n",
      "widthBlade:[33.  31.  16.5  5.5  9.5 24.5 10.  19.5  9.5 13.5]\n",
      "widthStd:9.05607530887415\n",
      "widthSte:3.018691769624716\n",
      "widthMean:17.25\n",
      "\n",
      "widthBlade:[18.  14.  10.5 13.  10.   5.5  8.   8.5  7.   5.5]\n",
      "widthStd:3.8078865529319543\n",
      "widthSte:1.2692955176439844\n",
      "widthMean:10.0\n",
      "\n",
      "widthBlade:[21.  15.  20.  10.  20.  27.5 20.5 21.   9.5 10.5]\n",
      "widthStd:5.670097000933935\n",
      "widthSte:1.8900323336446447\n",
      "widthMean:17.5\n",
      "\n",
      "widthBlade:[40. 25. 34. 26. 37. 18. 41. 24. 22. 19.]\n",
      "widthStd:8.200000000000001\n",
      "widthSte:2.7333333333333334\n",
      "widthMean:28.6\n",
      "\n",
      "widthBlade:[38. 22. 12. 29. 43. 20. 29. 18. 22. 28.]\n",
      "widthStd:8.84816365128946\n",
      "widthSte:2.9493878837631526\n",
      "widthMean:26.1\n",
      "\n",
      "widthBlade:[18. 11.  9. 11. 17. 19. 20. 13. 33. 18.]\n",
      "widthStd:6.503076195155644\n",
      "widthSte:2.167692065051881\n",
      "widthMean:16.9\n",
      "\n",
      "widthGTStds:[6.091797764207213, 9.05607530887415, 3.8078865529319543, 5.670097000933935, 8.200000000000001, 8.84816365128946, 6.503076195155644]\n",
      "widthGTStes:[2.0305992547357374, 3.018691769624716, 1.2692955176439844, 1.8900323336446447, 2.7333333333333334, 2.9493878837631526, 2.167692065051881]\n",
      "widthGT:[12.7, 17.25, 10.0, 17.5, 28.6, 26.1, 16.9]\n"
     ]
    }
   ],
   "source": [
    "widths = [[1], [2], [3], [4], [5], [6], [7]]\n",
    "widthGT = []\n",
    "widthGTStds = []\n",
    "widthGTStes = []\n",
    "\n",
    "for width in widths:\n",
    "    widthPath = 'C:/Users/marti/opencv/monitare/field/widthBlade.csv'\n",
    "    widthBlade = np.loadtxt(widthPath,\n",
    "                             delimiter=';',\n",
    "                             skiprows=1,\n",
    "                             usecols={width[0]},\n",
    "                             unpack=True)\n",
    "    print(f'\\nwidthBlade:{widthBlade}')\n",
    "    \n",
    "    widthStd = np.std(widthBlade)\n",
    "    print(f'widthStd:{widthStd}')\n",
    "    if widthStd is not None:\n",
    "        widthGTStds.append(widthStd)\n",
    "    \n",
    "    widthSte = sem(widthBlade)\n",
    "    print(f'widthSte:{widthSte}')\n",
    "    if widthSte is not None:\n",
    "        widthGTStes.append(widthSte)\n",
    "        \n",
    "    widthMean = np.mean(widthBlade)\n",
    "    print(f'widthMean:{widthMean}')\n",
    "    if widthMean is not None:\n",
    "        widthGT.append(widthMean)\n",
    "\n",
    "labelGTW = 'Ground-truth width (cm)'\n",
    "titleGTW = 'GTWi'\n",
    "\n",
    "print(f'\\nwidthGTStds:{widthGTStds}')\n",
    "print(f'widthGTStes:{widthGTStes}')\n",
    "print(f'widthGT:{widthGT}')"
   ]
  },
  {
   "cell_type": "markdown",
   "id": "a9130f54",
   "metadata": {},
   "source": [
    "# IJ length"
   ]
  },
  {
   "cell_type": "code",
   "execution_count": 6,
   "id": "efb7e00a",
   "metadata": {
    "scrolled": true
   },
   "outputs": [
    {
     "name": "stdout",
     "output_type": "stream",
     "text": [
      "\n",
      "lengthImageJ:[26.4639 27.9279 27.6616 39.8273 41.99   39.4829]\n",
      "lengthStd:6.6034\n",
      "lengthSte:2.9531\n",
      "lengthMean:33.8923\n",
      "\n",
      "lengthImageJ:[38.6595 36.1716 38.5839 40.1247 39.6592 45.3074]\n",
      "lengthStd:2.7805\n",
      "lengthSte:1.2435\n",
      "lengthMean:39.751\n",
      "\n",
      "lengthImageJ:[36.9594 35.1107 30.3894 37.3418 45.3181 38.3608]\n",
      "lengthStd:4.4359\n",
      "lengthSte:1.9838\n",
      "lengthMean:37.2467\n",
      "\n",
      "lengthImageJ:[50.2789 59.6825 51.4848 37.1885 57.294  65.2162]\n",
      "lengthStd:8.8542\n",
      "lengthSte:3.9597\n",
      "lengthMean:53.5242\n",
      "\n",
      "lengthImageJ:[ 77.5372 101.4532 103.6875  94.2895  95.3201 101.6478]\n",
      "lengthStd:8.7966\n",
      "lengthSte:3.934\n",
      "lengthMean:95.6559\n",
      "\n",
      "lengthImageJ:[106.3151  99.0354  85.4701 112.5269  70.1498  89.4897]\n",
      "lengthStd:14.0358\n",
      "lengthSte:6.277\n",
      "lengthMean:93.8312\n",
      "\n",
      "lengthImageJ:[72.7977 69.2933 67.0274 81.1869 77.1586 72.2067]\n",
      "lengthStd:4.7247\n",
      "lengthSte:2.1129\n",
      "lengthMean:73.2784\n",
      "\n",
      "lengthIJStds:[6.6034, 2.7805, 4.4359, 8.8542, 8.7966, 14.0358, 4.7247]\n",
      "lengthIJStes:[2.9531, 1.2435, 1.9838, 3.9597, 3.934, 6.277, 2.1129]\n",
      "lengthIJ:[33.8923, 39.751, 37.2467, 53.5242, 95.6559, 93.8312, 73.2784]\n"
     ]
    }
   ],
   "source": [
    "lengths = [[1], [2], [3], [4], [5], [6], [7]]\n",
    "lengthIJ = []\n",
    "lengthIJStds = []\n",
    "lengthIJStes = []\n",
    "\n",
    "for length in lengths:\n",
    "    lengthPath = 'C:/Users/marti/opencv/monitare/field/lengthImageJ.csv'\n",
    "    lengthImageJ = np.loadtxt(lengthPath,\n",
    "                             delimiter=';',\n",
    "                             skiprows=1,\n",
    "                             usecols={length[0]},\n",
    "                             unpack=True)\n",
    "    print(f'\\nlengthImageJ:{lengthImageJ}')\n",
    "    \n",
    "    lengthStd = np.around(np.std(lengthImageJ), 4)\n",
    "    print(f'lengthStd:{lengthStd}')\n",
    "    if lengthStd is not None:\n",
    "        lengthIJStds.append(lengthStd)\n",
    "        \n",
    "    lengthSte = np.around(sem(lengthImageJ), 4)\n",
    "    print(f'lengthSte:{lengthSte}')\n",
    "    if lengthSte is not None:\n",
    "        lengthIJStes.append(lengthSte)\n",
    "        \n",
    "    lengthMean = np.around(np.mean(lengthImageJ), 4)\n",
    "    print(f'lengthMean:{lengthMean}')\n",
    "    if lengthMean is not None:\n",
    "        lengthIJ.append(lengthMean)\n",
    "\n",
    "labelIJL = 'Manual annotation length (cm)'\n",
    "titleIJL = 'MAL'\n",
    "\n",
    "print(f'\\nlengthIJStds:{lengthIJStds}')\n",
    "print(f'lengthIJStes:{lengthIJStes}')\n",
    "print(f'lengthIJ:{lengthIJ}')"
   ]
  },
  {
   "cell_type": "markdown",
   "id": "d21a7eb2",
   "metadata": {},
   "source": [
    "lengthGT: 45.6, 46.4, 37.4, 57.6, 93.5, 87.3, 65.9"
   ]
  },
  {
   "cell_type": "markdown",
   "id": "93b05004",
   "metadata": {},
   "source": [
    "# CV area"
   ]
  },
  {
   "cell_type": "code",
   "execution_count": 7,
   "id": "92aeab41",
   "metadata": {
    "scrolled": true
   },
   "outputs": [
    {
     "name": "stdout",
     "output_type": "stream",
     "text": [
      "\n",
      "areaCm:[3073 3204 3800 3872 4226 4912]\n",
      "\u0007reaDM:[30.73 32.04 38.   38.72 42.26 49.12]\n",
      "areaStd:6.1822606886334235\n",
      "areaMean:38.47833333333333\n",
      "\n",
      "areaCm:[5019 4562 5316 4146 4323 4071]\n",
      "\u0007reaDM:[50.19 45.62 53.16 41.46 43.23 40.71]\n",
      "areaStd:4.560553389910287\n",
      "areaMean:45.72833333333333\n",
      "\n",
      "areaCm:[3617 3268 2699 3305 3165 3242]\n",
      "\u0007reaDM:[36.17 32.68 26.99 33.05 31.65 32.42]\n",
      "areaStd:2.7141358354609553\n",
      "areaMean:32.16\n",
      "\n",
      "areaCm:[4342 4730 4587 4675 5078 4915]\n",
      "\u0007reaDM:[43.42 47.3  45.87 46.75 50.78 49.15]\n",
      "areaStd:2.3412205980831637\n",
      "areaMean:47.211666666666666\n",
      "\n",
      "areaCm:[8600 7956 8050 7692 7084 8213]\n",
      "\u0007reaDM:[86.   79.56 80.5  76.92 70.84 82.13]\n",
      "areaStd:4.683993132645121\n",
      "areaMean:79.325\n",
      "\n",
      "areaCm:[8342 8554 7793 8565 6091 6955]\n",
      "\u0007reaDM:[83.42 85.54 77.93 85.65 60.91 69.55]\n",
      "areaStd:9.165690857152502\n",
      "areaMean:77.16666666666667\n",
      "\n",
      "areaCm:[4100 4156 3348 3389 2491 3902]\n",
      "\u0007reaDM:[41.   41.56 33.48 33.89 24.91 39.02]\n",
      "areaStd:5.7454523078885815\n",
      "areaMean:35.64333333333334\n",
      "\n",
      "areaStds:[6.1822606886334235, 4.560553389910287, 2.7141358354609553, 2.3412205980831637, 4.683993132645121, 9.165690857152502, 5.7454523078885815]\n",
      "areaCV:[38.47833333333333, 45.72833333333333, 32.16, 47.211666666666666, 79.325, 77.16666666666667, 35.64333333333334]\n"
     ]
    }
   ],
   "source": [
    "areas = [[1], [2], [3], [4], [5], [6], [7]]\n",
    "areaCV = []\n",
    "areaStds = []\n",
    "\n",
    "for area in areas:\n",
    "    areaPath = f'C:/Users/marti/opencv/monitare/output/{area[0]}/areaDay{area[0]}.csv'\n",
    "    sample, areaPixel, areaCm = np.loadtxt(areaPath, \n",
    "                                           dtype=int, \n",
    "                                           delimiter=',', \n",
    "                                           converters=float, \n",
    "                                           skiprows=1, \n",
    "                                           unpack=True)\n",
    "    print(f'\\nareaCm:{areaCm}')\n",
    "    \n",
    "    areaDm = areaCm/100\n",
    "    print(f'\\areaDM:{areaDm}')\n",
    "    \n",
    "    areaStd = np.std(areaDm)\n",
    "    print(f'areaStd:{areaStd}')\n",
    "    if areaStd is not None:\n",
    "        areaStds.append(areaStd)\n",
    "        \n",
    "    areaMean = np.mean(areaDm)\n",
    "    print(f'areaMean:{areaMean}')\n",
    "    if areaMean is not None:\n",
    "        areaCV.append(areaMean)\n",
    "\n",
    "labelCVA = 'Computer vision area ($dm^2$/m)'\n",
    "titleCVA = 'CVA'\n",
    "\n",
    "print(f'\\nareaStds:{areaStds}')\n",
    "print(f'areaCV:{areaCV}')"
   ]
  },
  {
   "cell_type": "markdown",
   "id": "bc829ee0",
   "metadata": {},
   "source": [
    "lengthGT: 45.6, 46.4, 37.4, 57.6, 93.5, 87.3, 65.9"
   ]
  },
  {
   "cell_type": "markdown",
   "id": "d26fee18",
   "metadata": {},
   "source": [
    "# Pred biomass"
   ]
  },
  {
   "cell_type": "code",
   "execution_count": 8,
   "id": "0e7e5e61",
   "metadata": {},
   "outputs": [],
   "source": [
    "biomassPred = [0.389, 0.611, 0.262, 0.671, 5.023, 4.403, 0.324]"
   ]
  },
  {
   "cell_type": "markdown",
   "id": "44a94c49",
   "metadata": {},
   "source": [
    "# Accuracy"
   ]
  },
  {
   "cell_type": "code",
   "execution_count": 9,
   "id": "a687a246",
   "metadata": {
    "scrolled": true
   },
   "outputs": [
    {
     "name": "stdout",
     "output_type": "stream",
     "text": [
      "84.38230994152046\n",
      "98.55244252873563\n",
      "85.98930481283422\n",
      "81.96469907407406\n",
      "84.83957219251337\n",
      "88.39251622756778\n",
      "54.087000505816896\n"
     ]
    }
   ],
   "source": [
    "accs = []\n",
    "for area, length in zip(areaCV, lengthGT):\n",
    "    acc = ((length-(length-area))/length)*100\n",
    "    accs.append(acc)\n",
    "    print(acc)"
   ]
  },
  {
   "cell_type": "markdown",
   "id": "24efbec2",
   "metadata": {},
   "source": [
    "# GT wet weight"
   ]
  },
  {
   "cell_type": "code",
   "execution_count": 10,
   "id": "9fc70a57",
   "metadata": {},
   "outputs": [
    {
     "name": "stdout",
     "output_type": "stream",
     "text": [
      "weightGT:[0.428 0.54  0.238 0.768 4.37  4.966 1.844]\n"
     ]
    }
   ],
   "source": [
    "weightPath = f'C:/Users/marti/opencv/monitare/field/weight.csv'\n",
    "days, weightGT = np.loadtxt(weightPath,\n",
    "                            delimiter=';',\n",
    "                            skiprows=1,\n",
    "                            unpack=True)\n",
    "\n",
    "labelGTWW = 'Ground-truth weight (kg/m)'\n",
    "titleGTWW = 'GTW'\n",
    "print(f'weightGT:{weightGT}')"
   ]
  },
  {
   "cell_type": "markdown",
   "id": "9a806903",
   "metadata": {},
   "source": [
    "# Scatter plot"
   ]
  },
  {
   "cell_type": "code",
   "execution_count": 11,
   "id": "69acd5f0",
   "metadata": {},
   "outputs": [],
   "source": [
    "def makeSPlot(x, y, days, xlabel, ylabel, xtitle, ytitle):\n",
    "\n",
    "    # define input data as numpy array\n",
    "    x = np.array(x).reshape((-1,1))\n",
    "    y = np.array(y)\n",
    "    c = np.array(days)\n",
    "\n",
    "    # perform linear regression and make predictions\n",
    "    model = LinearRegression().fit(x, y)\n",
    "    yPred = model.predict(x)\n",
    "\n",
    "    # find r2, intercept and slope\n",
    "    r2 = model.score(x, y)\n",
    "    intercept = model.intercept_\n",
    "    slope = np.float64(model.coef_)\n",
    "\n",
    "    # make scatter plot\n",
    "    fig, ax = plt.subplots()\n",
    "    scatter = ax.scatter(x, y, c=c)\n",
    "\n",
    "    # produce a legend with the unique colors from the scatter\n",
    "    ax.legend(*scatter.legend_elements(), title=\"Day\", loc='lower right')\n",
    "    \n",
    "    # add trendline to the plot\n",
    "    ax.plot(x, yPred)\n",
    "    \n",
    "    # add trendline equation and r2 to plot\n",
    "    ax.text(.02,.98, f'y = {slope:.2f}x + {intercept:.2f}', ha='left', va='top', transform=ax.transAxes)\n",
    "    ax.text(.02,.92, f'r2 = {r2:.2f}', ha='left', va='top', transform=ax.transAxes)\n",
    "    \n",
    "    # label the axes\n",
    "    ax.set_xlabel(xlabel)\n",
    "    ax.set_ylabel(ylabel)\n",
    "    \n",
    "    # give title\n",
    "    plt.title(f'{xtitle} and {ytitle}')\n",
    "    \n",
    "    # save plot\n",
    "    plt.savefig(f'C:/Users/marti/opencv/monitare/plots/{xlabel}vs{ylabel}.jpg', bbox_inches='tight')\n",
    "    \n",
    "    # display plot\n",
    "    plt.show;\n",
    "    \n",
    "    return r2"
   ]
  },
  {
   "cell_type": "markdown",
   "id": "7ed7ee13",
   "metadata": {},
   "source": [
    "# Exponential regression"
   ]
  },
  {
   "cell_type": "code",
   "execution_count": 12,
   "id": "64cb8ca2",
   "metadata": {},
   "outputs": [
    {
     "ename": "NameError",
     "evalue": "name 'x' is not defined",
     "output_type": "error",
     "traceback": [
      "\u001b[1;31m---------------------------------------------------------------------------\u001b[0m",
      "\u001b[1;31mNameError\u001b[0m                                 Traceback (most recent call last)",
      "Input \u001b[1;32mIn [12]\u001b[0m, in \u001b[0;36m<cell line: 2>\u001b[1;34m()\u001b[0m\n\u001b[0;32m      1\u001b[0m \u001b[38;5;66;03m# Step 2a: Provide data\u001b[39;00m\n\u001b[1;32m----> 2\u001b[0m x \u001b[38;5;241m=\u001b[39m np\u001b[38;5;241m.\u001b[39marray(\u001b[43mx\u001b[49m)\u001b[38;5;241m.\u001b[39mreshape((\u001b[38;5;241m-\u001b[39m\u001b[38;5;241m1\u001b[39m,\u001b[38;5;241m1\u001b[39m))\n\u001b[0;32m      3\u001b[0m y \u001b[38;5;241m=\u001b[39m np\u001b[38;5;241m.\u001b[39marray(y)\n\u001b[0;32m      5\u001b[0m \u001b[38;5;66;03m# Step 2b: Transform input data\u001b[39;00m\n",
      "\u001b[1;31mNameError\u001b[0m: name 'x' is not defined"
     ]
    }
   ],
   "source": [
    "# Step 2a: Provide data\n",
    "x = np.array(x).reshape((-1,1))\n",
    "y = np.array(y)\n",
    "\n",
    "# Step 2b: Transform input data\n",
    "x_ = PolynomialFeatures(degree=2, include_bias=False).fit_transform(x)\n",
    "\n",
    "# Step 3: Create a model and fit it\n",
    "model = LinearRegression().fit(x_, y)\n",
    "\n",
    "# Step 4: Get results\n",
    "r2 = model.score(x_, y)\n",
    "print(f'r2: {r2}')\n",
    "intercept, coef = model.intercept_, model.coef_\n",
    "print(f\"intercept: {intercept}\")\n",
    "print(f\"coefficients: {coef}\")\n",
    "\n",
    "# Step 5: Predict response\n",
    "yPred = model.predict(x_)"
   ]
  },
  {
   "cell_type": "code",
   "execution_count": null,
   "id": "a7ddfd10",
   "metadata": {},
   "outputs": [],
   "source": [
    "def exp(x, y):\n",
    "    x = np.array(x)\n",
    "    y = np.array(y)\n",
    "    \n",
    "    poly = PolynomialFeatures(degree=2, include_bias=False)\n",
    "    poly_features = poly.fit_transform(x.reshape(-1, 1))\n",
    "    \n",
    "    poly_reg_model = LinearRegression()\n",
    "    poly_reg_model.fit(poly_features, y)\n",
    "    \n",
    "    y_predicted = poly_reg_model.predict(poly_features)\n",
    "    \n",
    "    plt.figure(figsize=(10, 6))\n",
    "    plt.scatter(x, y)\n",
    "    plt.plot(x, y_predicted)\n",
    "    plt.show()\n",
    "    \n",
    "    return None"
   ]
  },
  {
   "cell_type": "code",
   "execution_count": 13,
   "id": "4241a0a4",
   "metadata": {},
   "outputs": [],
   "source": [
    "def expPlot(x, y, xerr, yerr, days, xlabel, ylabel, xtitle, ytitle):\n",
    "\n",
    "    # define input data as numpy array\n",
    "    xErr = np.array(x)\n",
    "    yErr = np.array(y)\n",
    "    x = np.array(x).reshape((-1,1))\n",
    "    y = np.array(y).reshape((-1,1))\n",
    "    c = np.array(days)\n",
    "    if xerr is not None:\n",
    "        xerr = np.array(xerr)\n",
    "    if yerr is not None:\n",
    "        yerr = np.array(yerr)\n",
    "    \n",
    "    # Transform input data\n",
    "    x_ = PolynomialFeatures(degree=2, include_bias=False).fit_transform(x)\n",
    "    \n",
    "    # Create a model and fit it\n",
    "    model = LinearRegression().fit(x_, y)\n",
    "    \n",
    "    # Get coefficients and intercept of polynomial regression model\n",
    "    coef1 = model.coef_[0][1]\n",
    "    coef2 = model.coef_[0][2]\n",
    "    intercept = model.intercept_[0]\n",
    "\n",
    "    # Create x and y values for plotting\n",
    "    xPlot = np.linspace(x.min(), x.max(), 100)\n",
    "    yPlot = coef2 * xPlot**2 + coef1 * xPlot + intercept\n",
    "    \n",
    "    # Calculate the correlation coefficient (r), p-value and r squared\n",
    "    r, p = pearsonr(xErr, yErr)\n",
    "    r2 = np.square(r)\n",
    "    \n",
    "    # make scatter plot\n",
    "    fig, ax = plt.subplots()\n",
    "    scatter = ax.scatter(x, y, c=c)\n",
    "    ax.errorbar(xErr, yErr, xerr=xerr, yerr=yerr, linestyle='None', elinewidth=1, capsize=3)\n",
    "\n",
    "    # produce a legend with the unique colors from the scatter\n",
    "    ax.legend(*scatter.legend_elements(), title=\"Day\", loc='lower right')\n",
    "    \n",
    "    # add trendline to the plot\n",
    "    ax.plot(xPlot, yPlot)\n",
    "    \n",
    "    # add trendline equation and r2 to plot\n",
    "    #ax.text(.02,.98, f'y = {slope:.2f}x + {intercept:.2f}', ha='left', va='top', transform=ax.transAxes)\n",
    "    ax.text(.02,.98, f'r = {r:.4f}', ha='left', va='top', transform=ax.transAxes)\n",
    "    ax.text(.02,.94, f'p = {p:.4f}', ha='left', va='top', transform=ax.transAxes)\n",
    "    ax.text(.02,.90, f'r2 = {r2:.4f}', ha='left', va='top', transform=ax.transAxes)\n",
    "    \n",
    "    # label the axes\n",
    "    ax.set_xlabel(xlabel)\n",
    "    ax.set_ylabel(ylabel)\n",
    "    \n",
    "    # give title\n",
    "    #plt.title(f'{xtitle} and {ytitle}')\n",
    "    \n",
    "    # save plot\n",
    "    #plt.savefig(f'C:/Users/marti/opencv/monitare/plots/{xlabel}vs{ylabel}.jpg', bbox_inches='tight')\n",
    "    \n",
    "    # display plot\n",
    "    plt.show;\n",
    "    \n",
    "    return None"
   ]
  },
  {
   "cell_type": "markdown",
   "id": "80d2df65",
   "metadata": {},
   "source": [
    "# ScipyPlot"
   ]
  },
  {
   "cell_type": "code",
   "execution_count": 181,
   "id": "5b40a8ea",
   "metadata": {},
   "outputs": [],
   "source": [
    "def scipyPlot(x, y, xerr, yerr, days, xlabel, ylabel, xtitle, ytitle):\n",
    "\n",
    "    xData = np.array(x)\n",
    "    yData = np.array(y)\n",
    "    c = np.array(days)\n",
    "    if xerr is not None:\n",
    "        xerr = np.array(xerr)\n",
    "    if yerr is not None:\n",
    "        yerr = np.array(yerr)\n",
    "\n",
    "    def func(x, a, b):\n",
    "        return np.exp(a) * np.exp(b*x)\n",
    "    \n",
    "    yLog = np.log(yData)\n",
    "    b, a = np.polyfit(xData, yLog, 1)\n",
    "\n",
    "    xdata = np.linspace(xData.min(), xData.max(), 50)\n",
    "    y = func(xdata, a, b)\n",
    "    rng = np.random.default_rng()\n",
    "    y_noise = 0.2 * rng.normal(size=xdata.size)\n",
    "    ydata = y + y_noise\n",
    "    \n",
    "    popt, pcov = curve_fit(func, xdata, ydata)\n",
    "    \n",
    "    r, p = pearsonr(xData, yData)\n",
    "    r2 = np.square(r)\n",
    "    \n",
    "    GTWpred = [0.389, 0.611, 0.262, 0.671, 5.023, 4.403, 0.324]\n",
    "    MSE = mean_squared_error(yData, GTWpred)\n",
    "    RMSE = np.sqrt(MSE)\n",
    "    MAE = mean_absolute_error(yData, GTWpred)\n",
    "    #r22 = r2_score(ydata, func(xdata, *popt))\n",
    "    \n",
    "    # make scatter plot\n",
    "    fig, ax = plt.subplots()\n",
    "    scatter = ax.scatter(xData, yData, c=c)\n",
    "    ax.errorbar(xData, yData, xerr=xerr, yerr=yerr, linestyle='None', elinewidth=1, capsize=3)\n",
    "\n",
    "    # produce a legend with the unique colors from the scatter\n",
    "    ax.legend(*scatter.legend_elements(), title=\"Date\", loc='lower right')\n",
    "    \n",
    "    # add trendline to the plot\n",
    "    ax.plot(xdata, func(xdata, *popt))\n",
    "    \n",
    "    A = f'{np.exp(a):.4f}'\n",
    "    B = f'{b:.4f}x'\n",
    "    \n",
    "    # add trendline equation and r2 to plot\n",
    "    #ax.text(.02,.98, f'y = {slope:.2f}x + {intercept:.2f}', ha='left', va='top', transform=ax.transAxes)\n",
    "    #ax.text(.02,.94, f'r = {r:.2f}', ha='left', va='top', transform=ax.transAxes)\n",
    "    ax.text(.02,.98, r'y = {0}$e^{{{1}}}$'.format(A, B), ha='left', va='top', transform=ax.transAxes)\n",
    "    ax.text(.02,.93, f'$r^2$ = {r2:.2f}', ha='left', va='top', transform=ax.transAxes)\n",
    "    if p < 0.05:\n",
    "        ax.text(.02,.88, f'p < 0.05', ha='left', va='top', transform=ax.transAxes)\n",
    "    else:\n",
    "        ax.text(.02,.88, f'p = {p:.2f}', ha='left', va='top', transform=ax.transAxes)\n",
    "    \n",
    "    # label the axes\n",
    "    ax.set_xlabel(xlabel)\n",
    "    ax.set_ylabel(ylabel)\n",
    "    \n",
    "    # give title\n",
    "    #plt.title(f'{xtitle} and {ytitle}')\n",
    "    \n",
    "    # save plot\n",
    "    plt.savefig(f'C:/Users/marti/opencv/monitare/plots/{xtitle}vs{ytitle}_300dpi.jpg', dpi=300, bbox_inches='tight')\n",
    "    \n",
    "    # display plot\n",
    "    plt.show;\n",
    "    \n",
    "    return MSE, RMSE, MAE"
   ]
  },
  {
   "cell_type": "markdown",
   "id": "adb7b1e5",
   "metadata": {},
   "source": [
    "## Scipy black"
   ]
  },
  {
   "cell_type": "code",
   "execution_count": 332,
   "id": "2531f4cc",
   "metadata": {},
   "outputs": [],
   "source": [
    "def scipyBlack(x, y, xerr, yerr, days, xlabel, ylabel, xtitle, ytitle):\n",
    "\n",
    "    xData = np.array(x)\n",
    "    yData = np.array(y)\n",
    "    c = np.array(days)\n",
    "    if xerr is not None:\n",
    "        xerr = np.array(xerr)\n",
    "    if yerr is not None:\n",
    "        yerr = np.array(yerr)\n",
    "\n",
    "    def func(x, a, b):\n",
    "        return np.exp(a) * np.exp(b*x)\n",
    "    \n",
    "    yLog = np.log(yData)\n",
    "    b, a = np.polyfit(xData, yLog, 1)\n",
    "\n",
    "    xdata = np.linspace(xData.min(), xData.max(), 50)\n",
    "    y = func(xdata, a, b)\n",
    "    rng = np.random.default_rng()\n",
    "    y_noise = 0.2 * rng.normal(size=xdata.size)\n",
    "    ydata = y + y_noise\n",
    "    \n",
    "    popt, pcov = curve_fit(func, xdata, ydata)\n",
    "    \n",
    "    r, p = pearsonr(xData, yData)\n",
    "    r2 = np.square(r)\n",
    "    \n",
    "    GTWpred = [0.389, 0.611, 0.262, 0.671, 5.023, 4.403, 0.324]\n",
    "    MSE = mean_squared_error(yData, GTWpred)\n",
    "    RMSE = np.sqrt(MSE)\n",
    "    MAE = mean_absolute_error(yData, GTWpred)\n",
    "    #r22 = r2_score(ydata, func(xdata, *popt))\n",
    "    \n",
    "    colors = ['b','g','r','c','m','y','k']\n",
    "    \n",
    "    # make scatter plot\n",
    "    fig, ax = plt.subplots()\n",
    "    lo = ax.scatter(xData[0], yData[0], marker='x', color=colors[0])\n",
    "    ll = ax.scatter(xData[1], yData[1], marker='o', color=colors[1])\n",
    "    l  = ax.scatter(xData[2], yData[2], marker='v', color=colors[2])\n",
    "    aa = ax.scatter(xData[3], yData[3], marker='^', color=colors[3])\n",
    "    h  = ax.scatter(xData[4], yData[4], marker='s', color=colors[4])\n",
    "    hh = ax.scatter(xData[5], yData[5], marker='d', color=colors[5])\n",
    "    ho = ax.scatter(xData[6], yData[6], marker='P', color=colors[6])\n",
    "\n",
    "    ax.legend((lo, ll, l, aa, h, hh, ho),\n",
    "              ('March 22', 'April 5', 'April 20', 'May 4', 'May 27', 'June 3', 'June 15'),\n",
    "              scatterpoints=1,\n",
    "              title=\"Date\",\n",
    "              loc='lower right',\n",
    "              fontsize=8)\n",
    "    \n",
    "    #scatter = ax.scatter(xData, yData, c=c)\n",
    "    ax.errorbar(xData, yData, xerr=xerr, yerr=yerr, linestyle='None', elinewidth=1, capsize=3, color='k')\n",
    "\n",
    "    # produce a legend with the unique colors from the scatter\n",
    "    #ax.legend(*scatter.legend_elements(), title=\"Date\", loc='lower right')\n",
    "    \n",
    "    # add trendline to the plot\n",
    "    ax.plot(xdata, func(xdata, *popt), color='k')\n",
    "    \n",
    "    A = f'{np.exp(a):.4f}'\n",
    "    B = f'{b:.4f}x'\n",
    "    \n",
    "    # add trendline equation and r2 to plot\n",
    "    ax.text(.02,.98, r'y = {0}$e^{{{1}}}$'.format(A, B), ha='left', va='top', transform=ax.transAxes)\n",
    "    \n",
    "    ax.text(.02,.93, f'$r^2$ = {r2:.2f}', ha='left', va='top', transform=ax.transAxes)\n",
    "    \n",
    "    if p < 0.05:\n",
    "        ax.text(.02,.88, f'p < 0.05', ha='left', va='top', transform=ax.transAxes)\n",
    "    else:\n",
    "        ax.text(.02,.88, f'p = {p:.2f}', ha='left', va='top', transform=ax.transAxes)\n",
    "        \n",
    "    ax.text(.5,.98, 'a)', fontsize=20, ha='right', va='top', transform=ax.transAxes)\n",
    "    \n",
    "    # label the axes\n",
    "    ax.set_xlabel(xlabel)\n",
    "    ax.set_ylabel(ylabel)\n",
    "    \n",
    "    # give title\n",
    "    #plt.title(f'{xtitle} and {ytitle}')\n",
    "    \n",
    "    # save plot\n",
    "    plt.savefig(f'C:/Users/marti/opencv/monitare/plots/{xtitle}vs{ytitle}_300dpi_black.jpg', dpi=300, bbox_inches='tight')\n",
    "    \n",
    "    # display plot\n",
    "    plt.show;\n",
    "    \n",
    "    return MSE, RMSE, MAE"
   ]
  },
  {
   "cell_type": "markdown",
   "id": "f06fb490",
   "metadata": {},
   "source": [
    "# Errorbar plot"
   ]
  },
  {
   "cell_type": "code",
   "execution_count": 326,
   "id": "a6b448a1",
   "metadata": {},
   "outputs": [],
   "source": [
    "def makePlot(x, y, xerr, yerr, days, xlabel, ylabel, xtitle, ytitle):\n",
    "\n",
    "    # define input data as numpy array\n",
    "    xErr = np.array(x)\n",
    "    x = np.array(x).reshape((-1,1))\n",
    "    y = np.array(y)\n",
    "    c = days\n",
    "    if xerr is not None:\n",
    "        xerr = np.array(xerr)\n",
    "    if yerr is not None:\n",
    "        yerr = np.array(yerr)\n",
    "    \n",
    "    # perform linear regression and make predictions\n",
    "    model = LinearRegression().fit(x, y)\n",
    "    yPred = model.predict(x)\n",
    "\n",
    "    # find r2, MSE, intercept and slope\n",
    "    r2 = model.score(x, y)\n",
    "    MSE = mean_squared_error(y, yPred)\n",
    "    RMSE = np.sqrt(MSE)\n",
    "    MAE = mean_absolute_error(y, yPred)\n",
    "    intercept = model.intercept_\n",
    "    slope = np.float64(model.coef_)\n",
    "    \n",
    "    # Calculate the correlation coefficient and p-value\n",
    "    r, p = pearsonr(xErr, y)\n",
    "\n",
    "    dates =['March 22', 'April 5', 'April 20', 'May 4', 'May 27', 'June 3', 'June 15']\n",
    "    colors = ['b','g','r','c','m','y','k']\n",
    "    \n",
    "    # make scatter plot\n",
    "    fig, ax = plt.subplots()\n",
    "    lo = ax.scatter(x[0], y[0], marker='x', color=colors[0])\n",
    "    ll = ax.scatter(x[1], y[1], marker='o', color=colors[1])\n",
    "    l  = ax.scatter(x[2], y[2], marker='v', color=colors[2])\n",
    "    a  = ax.scatter(x[3], y[3], marker='^', color=colors[3])\n",
    "    h  = ax.scatter(x[4], y[4], marker='s', color=colors[4])\n",
    "    hh = ax.scatter(x[5], y[5], marker='d', color=colors[5])\n",
    "    ho = ax.scatter(x[6], y[6], marker='P', color=colors[6])\n",
    "\n",
    "    ax.legend((lo, ll, l, a, h, hh, ho),\n",
    "              ('March 22', 'April 5', 'April 20', 'May 4', 'May 27', 'June 3', 'June 15'),\n",
    "              scatterpoints=1,\n",
    "              title=\"Date\",\n",
    "              loc='lower right',\n",
    "              fontsize=8)\n",
    "    \n",
    "    #for color, date in zip(colors, dates):\n",
    "    #    scatter = ax.scatter(x, y, c=color, label=date)\n",
    "    ax.errorbar(xErr, y, xerr=xerr, yerr=yerr, linestyle='None', elinewidth=1, capsize=3, ecolor='k')\n",
    "\n",
    "    # produce a legend with the unique colors from the scatter\n",
    "    #ax.legend(*scatter.legend_elements(), title=\"Date\", loc='lower right')\n",
    "    \n",
    "    # add trendline to the plot\n",
    "    ax.plot(x, yPred, color='k')\n",
    "    \n",
    "    # add trendline equation and r2 to plot\n",
    "    if intercept > 0:\n",
    "        ax.text(.02,.98, f'y = {slope:.2f}x + {intercept:.2f}', ha='left', va='top', transform=ax.transAxes)\n",
    "    else:\n",
    "        ax.text(.02,.98, f'y = {slope:.2f}x {intercept:.2f}', ha='left', va='top', transform=ax.transAxes)\n",
    "    \n",
    "    ax.text(.02,.93, f'$r^2$ = {r2:.2f}', ha='left', va='top', transform=ax.transAxes)\n",
    "    \n",
    "    if p < 0.05:\n",
    "        ax.text(.02,.88, f'p < 0.05', ha='left', va='top', transform=ax.transAxes)\n",
    "    else:\n",
    "        ax.text(.02,.88, f'p = {p:.2f}', ha='left', va='top', transform=ax.transAxes)\n",
    "    \n",
    "    ax.text(.50,.98, 'a)', fontsize=20, ha='right', va='top', transform=ax.transAxes)\n",
    "    \n",
    "    # label the axes\n",
    "    ax.set_xlabel(xlabel)\n",
    "    ax.set_ylabel(ylabel)\n",
    "    \n",
    "    # give title\n",
    "    #plt.title(f'{xtitle} and {ytitle}')\n",
    "    \n",
    "    # save plot\n",
    "    plt.savefig(f'C:/Users/marti/opencv/monitare/plots/{xtitle}vs{ytitle}_600dpi_black.jpg', dpi=600, bbox_inches='tight')\n",
    "    \n",
    "    # display plot\n",
    "    plt.show;\n",
    "    \n",
    "    return"
   ]
  },
  {
   "cell_type": "markdown",
   "id": "1c037468",
   "metadata": {},
   "source": [
    "# Errorbar plot 6"
   ]
  },
  {
   "cell_type": "code",
   "execution_count": 328,
   "id": "88d293b0",
   "metadata": {},
   "outputs": [],
   "source": [
    "def makePlot6(x, y, xerr, yerr, days, xlabel, ylabel, xtitle, ytitle):\n",
    "\n",
    "    # define input data as numpy array\n",
    "    xErr = np.array(x)\n",
    "    x = np.array(x).reshape((-1,1))\n",
    "    y = np.array(y)\n",
    "    c = days\n",
    "    if xerr is not None:\n",
    "        xerr = np.array(xerr)\n",
    "    if yerr is not None:\n",
    "        yerr = np.array(yerr)\n",
    "    \n",
    "    # perform linear regression and make predictions\n",
    "    model = LinearRegression().fit(x, y)\n",
    "    yPred = model.predict(x)\n",
    "\n",
    "    # find r2, MSE, intercept and slope\n",
    "    r2 = model.score(x, y)\n",
    "    MSE = mean_squared_error(y, yPred)\n",
    "    RMSE = np.sqrt(MSE)\n",
    "    MAE = mean_absolute_error(y, yPred)\n",
    "    intercept = model.intercept_\n",
    "    slope = np.float64(model.coef_)\n",
    "    \n",
    "    # Calculate the correlation coefficient and p-value\n",
    "    r, p = pearsonr(xErr, y)\n",
    "\n",
    "    dates =['March 22', 'April 5', 'April 20', 'May 4', 'May 27', 'June 3']\n",
    "    colors = ['b','g','r','c','m','y','k']\n",
    "    \n",
    "    # make scatter plot\n",
    "    fig, ax = plt.subplots()\n",
    "    lo = ax.scatter(x[0], y[0], marker='x', color=colors[0])\n",
    "    ll = ax.scatter(x[1], y[1], marker='o', color=colors[1])\n",
    "    l  = ax.scatter(x[2], y[2], marker='v', color=colors[2])\n",
    "    a  = ax.scatter(x[3], y[3], marker='^', color=colors[3])\n",
    "    h  = ax.scatter(x[4], y[4], marker='s', color=colors[4])\n",
    "    hh = ax.scatter(x[5], y[5], marker='d', color=colors[5])\n",
    "    #ho = plt.scatter(x[6], y[6], marker='P', color=colors[6])\n",
    "\n",
    "    ax.legend((lo, ll, l, a, h, hh),\n",
    "              ('March 22', 'April 5', 'April 20', 'May 4', 'May 27', 'June 3'),\n",
    "              scatterpoints=1,\n",
    "              title=\"Date\",\n",
    "              loc='lower right',\n",
    "              fontsize=8)\n",
    "    \n",
    "    #for color, date in zip(colors, dates):\n",
    "    #    scatter = ax.scatter(x, y, c=color, label=date)\n",
    "    ax.errorbar(xErr, y, xerr=xerr, yerr=yerr, linestyle='None', elinewidth=1, capsize=3, ecolor='k')\n",
    "\n",
    "    # produce a legend with the unique colors from the scatter\n",
    "    #ax.legend(*scatter.legend_elements(), title=\"Date\", loc='lower right')\n",
    "    \n",
    "    # add trendline to the plot\n",
    "    ax.plot(x, yPred, color='k')\n",
    "    \n",
    "    # add trendline equation and r2 to plot\n",
    "    if intercept > 0:\n",
    "        ax.text(.02,.98, f'y = {slope:.2f}x + {intercept:.2f}', ha='left', va='top', transform=ax.transAxes)\n",
    "    else:\n",
    "        ax.text(.02,.98, f'y = {slope:.2f}x {intercept:.2f}', ha='left', va='top', transform=ax.transAxes)\n",
    "    \n",
    "    ax.text(.02,.93, f'$r^2$ = {r2:.2f}', ha='left', va='top', transform=ax.transAxes)\n",
    "    \n",
    "    if p < 0.05:\n",
    "        ax.text(.02,.88, f'p < 0.05', ha='left', va='top', transform=ax.transAxes)\n",
    "    else:\n",
    "        ax.text(.02,.88, f'p = {p:.2f}', ha='left', va='top', transform=ax.transAxes)\n",
    "    \n",
    "    ax.text(.50,.98, 'b)', fontsize=20, ha='right', va='top', transform=ax.transAxes)\n",
    "    \n",
    "    # label the axes\n",
    "    ax.set_xlabel(xlabel)\n",
    "    ax.set_ylabel(ylabel)\n",
    "    \n",
    "    # give title\n",
    "    #plt.title(f'{xtitle} and {ytitle}')\n",
    "    \n",
    "    # save plot\n",
    "    plt.savefig(f'C:/Users/marti/opencv/monitare/plots/{xtitle}vs{ytitle}_600dpi_black.jpg', dpi=600, bbox_inches='tight')\n",
    "    \n",
    "    # display plot\n",
    "    plt.show;\n",
    "    \n",
    "    return"
   ]
  },
  {
   "cell_type": "markdown",
   "id": "0ce4e484",
   "metadata": {},
   "source": [
    "## MAL vs GTL"
   ]
  },
  {
   "cell_type": "code",
   "execution_count": 166,
   "id": "698e9b7a",
   "metadata": {
    "scrolled": true
   },
   "outputs": [
    {
     "data": {
      "image/png": "[encoded data removed]",
      "text/plain": [
       "<Figure size 640x480 with 1 Axes>"
      ]
     },
     "metadata": {},
     "output_type": "display_data"
    }
   ],
   "source": [
    "r2, r, p, MSE, RMSE, MAE =  makePlot(lengthIJ, lengthGT, lengthIJStds, lengthGTStds, dates, labelIJL, labelGTL, titleIJL, titleGTL)"
   ]
  },
  {
   "cell_type": "markdown",
   "id": "01438f4c",
   "metadata": {},
   "source": [
    "## CVA vs GTL"
   ]
  },
  {
   "cell_type": "code",
   "execution_count": 327,
   "id": "a3fd206d",
   "metadata": {},
   "outputs": [
    {
     "data": {
      "image/png": "[encoded data removed]",
      "text/plain": [
       "<Figure size 640x480 with 1 Axes>"
      ]
     },
     "metadata": {},
     "output_type": "display_data"
    }
   ],
   "source": [
    "CVAvsGTL =  makePlot(areaCV, lengthGT, areaStds, lengthGTStds, dates, labelCVA, labelGTL, titleCVA, titleGTL)"
   ]
  },
  {
   "cell_type": "markdown",
   "id": "53b08ed7",
   "metadata": {},
   "source": [
    "## CV area vs GT length exp without outlier day 7"
   ]
  },
  {
   "cell_type": "code",
   "execution_count": 175,
   "id": "97457419",
   "metadata": {},
   "outputs": [],
   "source": [
    "lengthGT2 = [45.6, 46.4, 37.4, 57.6, 93.5, 87.3]\n",
    "lengthGTStds2 = [15.289620662397088, 12.590571869458511, 12.39112585683803, 13.046168019767338, 18.725650856512303, 19.504102132628407]"
   ]
  },
  {
   "cell_type": "code",
   "execution_count": 329,
   "id": "14ea824e",
   "metadata": {},
   "outputs": [
    {
     "data": {
      "image/png": "[encoded data removed]",
      "text/plain": [
       "<Figure size 640x480 with 1 Axes>"
      ]
     },
     "metadata": {},
     "output_type": "display_data"
    }
   ],
   "source": [
    "CVAvsGTL =  makePlot6(areaCV2, lengthGT2, areaStds2, lengthGTStds2, dates2, labelCVA, labelGTL, 'CVA2', 'GTL2')"
   ]
  },
  {
   "cell_type": "markdown",
   "id": "e8ffa03f",
   "metadata": {},
   "source": [
    "## CV area vs GT wet weight exp"
   ]
  },
  {
   "cell_type": "code",
   "execution_count": 189,
   "id": "94e3ad4e",
   "metadata": {},
   "outputs": [
    {
     "data": {
      "image/png": "[encoded data removed]",
      "text/plain": [
       "<Figure size 640x480 with 1 Axes>"
      ]
     },
     "metadata": {},
     "output_type": "display_data"
    }
   ],
   "source": [
    "MSE, RMSE, MAE = scipyPlot(areaCV, weightGT, areaStds, None, dates, labelCVA, labelGTWW, titleCVA, titleGTWW)"
   ]
  },
  {
   "cell_type": "code",
   "execution_count": 193,
   "id": "87c1f806",
   "metadata": {},
   "outputs": [
    {
     "data": {
      "image/png": "[encoded data removed]",
      "text/plain": [
       "<Figure size 640x480 with 1 Axes>"
      ]
     },
     "metadata": {},
     "output_type": "display_data"
    }
   ],
   "source": [
    "MSE, RMSE, MAE = scipyBlack(areaCV, weightGT, areaStds, None, dates, labelCVA, labelGTWW, titleCVA, titleGTWW)"
   ]
  },
  {
   "cell_type": "markdown",
   "id": "358407b0",
   "metadata": {},
   "source": [
    "## CV area vs GT wet weight exp without outlier day 7"
   ]
  },
  {
   "cell_type": "code",
   "execution_count": 197,
   "id": "06460f93",
   "metadata": {},
   "outputs": [],
   "source": [
    "areaCV2 = [38.47833333333333, 45.72833333333333, 32.16, 47.211666666666666, 79.325, 77.16666666666667]\n",
    "areaStds2 = [6.1822606886334235, 4.560553389910287, 2.7141358354609553, 2.3412205980831637, 4.683993132645121, 9.165690857152502]\n",
    "weightGT2 = [0.428, 0.54, 0.238, 0.768, 4.37, 4.966]\n",
    "biomassPred2 = [0.389, 0.611, 0.262, 0.671, 5.023, 4.403]\n",
    "dates2 = [220322, 220405, 220420, 220504, 220527, 220603]"
   ]
  },
  {
   "cell_type": "code",
   "execution_count": 198,
   "id": "6730d2b3",
   "metadata": {
    "scrolled": true
   },
   "outputs": [
    {
     "name": "stdout",
     "output_type": "stream",
     "text": [
      "0.12665416666666668 0.35588504698380724 0.24116666666666667\n"
     ]
    },
    {
     "data": {
      "image/png": "[encoded data removed]",
      "text/plain": [
       "<Figure size 640x480 with 1 Axes>"
      ]
     },
     "metadata": {},
     "output_type": "display_data"
    }
   ],
   "source": [
    "MSE, RMSE, MAE = scipyBlack(areaCV2, weightGT2, areaStds2, None, dates2, labelCVA, labelGTWW, 'CVA2', 'GTW2')\n",
    "print(MSE, RMSE, MAE)"
   ]
  },
  {
   "cell_type": "markdown",
   "id": "e5af9507",
   "metadata": {},
   "source": [
    "## GTWvsPredB"
   ]
  },
  {
   "cell_type": "code",
   "execution_count": null,
   "id": "f0df8eb0",
   "metadata": {},
   "outputs": [],
   "source": [
    "GTWvsPredB =  makePlot(weightGT, biomassPred, None, None, dates, labelGTWW, 'Predicted biomass', 'GTW', 'PredB')"
   ]
  },
  {
   "cell_type": "code",
   "execution_count": null,
   "id": "4f736f80",
   "metadata": {},
   "outputs": [],
   "source": [
    "GTWvsPredB2 =  makePlot(weightGT2, biomassPred2, None, None, dates2, labelGTWW, 'Predicted biomass', 'GTW2', 'PredB2')"
   ]
  },
  {
   "cell_type": "markdown",
   "id": "ba322f94",
   "metadata": {},
   "source": [
    "## MALvsGTW"
   ]
  },
  {
   "cell_type": "code",
   "execution_count": null,
   "id": "f74c12df",
   "metadata": {},
   "outputs": [],
   "source": [
    "MSE, RMSE, MAE = scipyPlot(lengthIJ, weightGT, lengthIJStds, None, dates, labelIJL, labelGTWW, titleIJL, titleGTWW)\n",
    "print(MSE, RMSE, MAE)"
   ]
  },
  {
   "cell_type": "markdown",
   "id": "623a95cc",
   "metadata": {},
   "source": [
    "## GT length vs GT width"
   ]
  },
  {
   "cell_type": "code",
   "execution_count": null,
   "id": "3ec21172",
   "metadata": {},
   "outputs": [],
   "source": [
    "GTLvsGTW = makePlot(lengthGT, widthGT, lengthGTStds, widthGTStds, dates, labelGTL, labelGTW, titleGTL, titleGTW)"
   ]
  },
  {
   "cell_type": "markdown",
   "id": "904391b2",
   "metadata": {},
   "source": [
    "## GT length vs GT wet weight"
   ]
  },
  {
   "cell_type": "code",
   "execution_count": null,
   "id": "c7874ff1",
   "metadata": {
    "scrolled": false
   },
   "outputs": [],
   "source": [
    "GTL_vs_GTWW = makePlot(lengthGT, weightGT, lengthGTStds, None, days, labelGTL, labelGTWW, titleGTL, titleGTWW)"
   ]
  },
  {
   "cell_type": "markdown",
   "id": "c5a04371",
   "metadata": {},
   "source": [
    "## GT width vs GT wet weigth"
   ]
  },
  {
   "cell_type": "code",
   "execution_count": null,
   "id": "bee5b277",
   "metadata": {},
   "outputs": [],
   "source": [
    "GTW_vs_GTWW = scipyPlot(widthGT, weightGT, widthGTStds, None, days, labelGTW, labelGTWW, titleGTW, titleGTWW)"
   ]
  },
  {
   "cell_type": "markdown",
   "id": "5c8ff0a9",
   "metadata": {},
   "source": [
    "## GT length vs GT wet weight expReg"
   ]
  },
  {
   "cell_type": "code",
   "execution_count": 331,
   "id": "4977fa78",
   "metadata": {},
   "outputs": [
    {
     "data": {
      "image/png": "[encoded data removed]",
      "text/plain": [
       "<Figure size 640x480 with 1 Axes>"
      ]
     },
     "metadata": {},
     "output_type": "display_data"
    }
   ],
   "source": [
    "GTLvsGTW = scipyBlack(lengthGT, weightGT, lengthGTStds, None, dates, labelGTL, labelGTWW, titleGTL, titleGTWW)"
   ]
  },
  {
   "cell_type": "markdown",
   "id": "28a1bd00",
   "metadata": {},
   "source": [
    "## GT wet weight vs CV area"
   ]
  },
  {
   "cell_type": "code",
   "execution_count": null,
   "id": "56c9ae40",
   "metadata": {
    "scrolled": true
   },
   "outputs": [],
   "source": [
    "GTWW_vs_CVA =  makePlot(weightGT, areaCV, None, areaStds, days, labelGTWW, labelCVA, titleGTWW, titleCVA)"
   ]
  },
  {
   "cell_type": "markdown",
   "id": "0da18013",
   "metadata": {},
   "source": [
    "## GT length vs CV length"
   ]
  },
  {
   "cell_type": "code",
   "execution_count": null,
   "id": "49bac2fa",
   "metadata": {},
   "outputs": [],
   "source": [
    "GTL_vs_CVL =  makePlot(lengthGT, lengthCV, lengthGTStds, None, days, labelGTL, labelCVL, titleGTL, titleCVL)"
   ]
  },
  {
   "cell_type": "markdown",
   "id": "d90df5a9",
   "metadata": {},
   "source": [
    "It was planned to apply the same MS tuning parameters on all images all days, with the goal of defining a method applicable to all conditions. That however, proved impossible, as the individual conditions per day demaned vastly different MS tuning, as well as color segmentation thresholds.\n",
    "Had the same MS tuning been applied on all days, it would be possible to use different tunings, and then investigate how different tuning correlate with the correlation coefisient between GT and CV. I can still do this tho. I can compare e.g. 0.02 and 0.05. This is my opinion beyond, or maybe even besides, the scope of this study. This is not a thesis about the intricasies of Meanshift segmenting.\n",
    "\n",
    "Can I find a correlation between turbidity and quality of the estimations? I have turbidity measurements for each day. The question is what is a good quality measure. Stdev/error? mean_square_error?"
   ]
  },
  {
   "cell_type": "code",
   "execution_count": null,
   "id": "7358bba6",
   "metadata": {},
   "outputs": [],
   "source": [
    "turb = [0.07, 0.08, 0.22, 0.19, 0.09, 0.07, 0.06]"
   ]
  },
  {
   "cell_type": "code",
   "execution_count": null,
   "id": "af51102e",
   "metadata": {},
   "outputs": [],
   "source": [
    "turb1 = [0.039644, 0.05565, 0.283405455, 0.206548571, 0.062981667, 0.054696, 0.05777]"
   ]
  },
  {
   "cell_type": "code",
   "execution_count": null,
   "id": "a6a75c4f",
   "metadata": {},
   "outputs": [],
   "source": [
    "print(accs)"
   ]
  },
  {
   "cell_type": "code",
   "execution_count": null,
   "id": "4d689a28",
   "metadata": {},
   "outputs": [],
   "source": [
    "SqEs = []\n",
    "for pred, weight in zip(biomassPred, weightGT):\n",
    "    SqE = np.square(weight-pred)\n",
    "    SqEs.append(SqE)\n",
    "    print(SqE)\n",
    "\n",
    "Res = []\n",
    "for pred, weight in zip(biomassPred, weightGT):\n",
    "    Re = weight-pred\n",
    "    Res.append(Re)\n",
    "    print(Re)"
   ]
  },
  {
   "cell_type": "code",
   "execution_count": null,
   "id": "c0c05e98",
   "metadata": {},
   "outputs": [],
   "source": [
    "#MSE1 = [1.90504633, 15.25140179, -12.04575618, 13.56418858, 7.65571758, -1.8839605, -41.68048636]"
   ]
  },
  {
   "cell_type": "code",
   "execution_count": null,
   "id": "b7ce81a7",
   "metadata": {},
   "outputs": [],
   "source": [
    "MSE1 = [7.0000e-04, 8.5900e-01, 5.4000e-03, 6.5210e-01, 5.8000e-03, 2.5140e-01,\n",
    " 1.5955e+00]"
   ]
  },
  {
   "cell_type": "code",
   "execution_count": null,
   "id": "30acd20f",
   "metadata": {},
   "outputs": [],
   "source": [
    "MAE1 = [0.0272, 0.9268, 0.0735, 0.8075, 0.0765, 0.5014, 1.2631]"
   ]
  },
  {
   "cell_type": "code",
   "execution_count": null,
   "id": "425b0cc4",
   "metadata": {},
   "outputs": [],
   "source": [
    "# Uten dag 3 og 4 (outliers)\n",
    "MAE2 = [0.0272, 0.9268, 0.0765, 0.5014, 1.2631]\n",
    "MSE2 = [7.0000e-04, 8.5900e-01, 5.8000e-03, 2.5140e-01, 1.5955e+00]\n",
    "days2 = [1, 2, 3, 4, 5]\n",
    "turb2 = [0.039644, 0.05565, 0.062981667, 0.054696, 0.05777]\n",
    "accs2 = [84.38230994152046, 98.55244252873563, 84.83957219251337, 88.39251622756778, 54.087000505816896]"
   ]
  },
  {
   "cell_type": "code",
   "execution_count": null,
   "id": "4945ac01",
   "metadata": {},
   "outputs": [],
   "source": [
    "# Uten dag 7 (outlier)\n",
    "days3 = [1,2,3,4,5,6]\n",
    "accs3 = [84.38230994152046, 98.55244252873563, 85.98930481283422, 81.96469907407406, 84.83957219251337, 88.39251622756778]\n",
    "turb3 = [0.039644, 0.05565, 0.283405455, 0.206548571, 0.062981667, 0.054696]"
   ]
  },
  {
   "cell_type": "code",
   "execution_count": null,
   "id": "dcd5be02",
   "metadata": {},
   "outputs": [],
   "source": [
    "turbvsaccs = makePlot(turb1, accs, None, None, dates, 'Turbidity (FTU)', 'Relative accuracy CVA', 'Turb', 'accCVA')"
   ]
  },
  {
   "cell_type": "code",
   "execution_count": null,
   "id": "2cc0e268",
   "metadata": {},
   "outputs": [],
   "source": [
    "turbvsaccs2 = makePlot(turb2, accs2, None, None, days2, 'Turbidity (FTU)', 'Relative accuracy CVA', 'Turb', 'accCVA')"
   ]
  },
  {
   "cell_type": "code",
   "execution_count": null,
   "id": "b277a2be",
   "metadata": {},
   "outputs": [],
   "source": [
    "turbvsaccs3 = makePlot(turb3, accs3, None, None, days3, 'Turbidity (FTU)', 'Relative accuracy CVA', 'Turb', 'accCVA')"
   ]
  },
  {
   "cell_type": "code",
   "execution_count": null,
   "id": "4690fd6c",
   "metadata": {
    "scrolled": true
   },
   "outputs": [],
   "source": [
    "turbvsMAE1 = makePlot(turb1, MAE1, None, None, dates, 'Turbidity (FTU)', 'CV area MAE', 'Turb', 'CVareaMAE')"
   ]
  },
  {
   "cell_type": "code",
   "execution_count": null,
   "id": "a94ff062",
   "metadata": {},
   "outputs": [],
   "source": [
    "turbvsMAE2 = makePlot(turb2, MAE2, None, None, days2, 'Turbidity (FTU)', 'CV area MAE', 'Turb', 'CVareaMAE')"
   ]
  },
  {
   "cell_type": "code",
   "execution_count": null,
   "id": "5aa62613",
   "metadata": {},
   "outputs": [],
   "source": [
    "turbvsMSE1 = makePlot(turb1, MSE1, None, None, dates, 'Turbidity (FTU)', 'CV area MSE', 'Turb', 'CVareaMSE')"
   ]
  },
  {
   "cell_type": "code",
   "execution_count": null,
   "id": "08e2094d",
   "metadata": {},
   "outputs": [],
   "source": [
    "turbvsMSE2 = makePlot(turb2, MSE2, None, None, days2, 'Turbidity (FTU)', 'CV area MSE', 'Turb', 'CVareaMSE')"
   ]
  },
  {
   "cell_type": "code",
   "execution_count": null,
   "id": "e2cc63c6",
   "metadata": {},
   "outputs": [],
   "source": [
    "chl_vs_CVA = makePlot(chl, areaStds, None, None, days, 'FChl a (mg m3)', 'Area ST.D', 'FChl a', 'Area ST.D')"
   ]
  },
  {
   "cell_type": "code",
   "execution_count": null,
   "id": "f1fe063f",
   "metadata": {},
   "outputs": [],
   "source": []
  }
 ],
 "metadata": {
  "kernelspec": {
   "display_name": "Python 3",
   "language": "python",
   "name": "python3"
  },
  "language_info": {
   "codemirror_mode": {
    "name": "ipython",
    "version": 3
   },
   "file_extension": ".py",
   "mimetype": "text/x-python",
   "name": "python",
   "nbconvert_exporter": "python",
   "pygments_lexer": "ipython3",
   "version": "3.8.8"
  }
 },
 "nbformat": 4,
 "nbformat_minor": 5
}
